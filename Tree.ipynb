{
 "cells": [
  {
   "cell_type": "code",
   "execution_count": 1,
   "metadata": {},
   "outputs": [],
   "source": [
    "import numpy as np\n",
    "import pandas as pd\n",
    "import matplotlib.pyplot as plt\n",
    "import LOG_REG\n",
    "from sklearn.preprocessing import MinMaxScaler"
   ]
  },
  {
   "cell_type": "code",
   "execution_count": 12,
   "metadata": {},
   "outputs": [
    {
     "name": "stdout",
     "output_type": "stream",
     "text": [
      "   age  sex  cp  trestbps  chol  fbs  restecg  thalach  exang  oldpeak  slope  \\\n",
      "0   63    1   3       145   233    1        0      150      0      2.3      0   \n",
      "1   37    1   2       130   250    0        1      187      0      3.5      0   \n",
      "2   41    0   1       130   204    0        0      172      0      1.4      2   \n",
      "3   56    1   1       120   236    0        1      178      0      0.8      2   \n",
      "4   57    0   0       120   354    0        1      163      1      0.6      2   \n",
      "\n",
      "   ca  thal  target  \n",
      "0   0     1       1  \n",
      "1   0     2       1  \n",
      "2   0     2       1  \n",
      "3   0     2       1  \n",
      "4   0     2       1  \n"
     ]
    }
   ],
   "source": [
    "dataset = pd.read_csv(\"heart.csv\")\n",
    "print(dataset.head())\n",
    "X = dataset.values[:,:-1]\n",
    "\n",
    "Y = dataset.values[:,-1]\n",
    "X.shape,Y.shape\n",
    "M = MinMaxScaler()\n",
    "M.fit(X)\n",
    "X = M.transform(X)\n",
    "n,m = X.shape"
   ]
  },
  {
   "cell_type": "code",
   "execution_count": 86,
   "metadata": {},
   "outputs": [],
   "source": [
    "class node():\n",
    "    def __init__(self,X,Y,depth):\n",
    "        self.X = X\n",
    "        self.Y = Y\n",
    "        self.depth = 1\n",
    "        self.max_depth = max_depth\n",
    "        self.depth = depth\n",
    "        self.n = len(Y)\n",
    "        print(\"Node number : \",self.depth,\"dataset size = \",self.n)\n",
    "        if (self.n>0):\n",
    "            self.train(num_iter,epochs)\n",
    "\n",
    "    def train(self,num_iter=10,epochs=10):\n",
    "        self.L = LOG_REG.Log_Reg(learning_rate=0.01,iterations=num_iter)\n",
    "        c = self.L.fit(self.X,self.Y)\n",
    "        self.X1,self.X2,self.Y1,self.Y2 = self.split()\n",
    "        print(\"node impurity = \",self.impurity(self.Y),\"split1 impurity = \",self.impurity(self.Y1),\"split2 impurity = \",self.impurity(self.Y2))\n",
    "        if (self.depth < self.max_depth) and len(Y)>0:\n",
    "            self.N1 = node(self.X1,self.Y1,self.depth+1)\n",
    "            self.N2 = node(self.X2,self.Y2,self.depth+1)\n",
    "        else:\n",
    "            return 0\n",
    "\n",
    "    def impurity(self,Y):\n",
    "        y_1,y_0=0,0\n",
    "        if len(Y)==0:\n",
    "            return 1\n",
    "        else:\n",
    "            for i in Y:\n",
    "                if i==0:\n",
    "                    y_0+=1\n",
    "                else:\n",
    "                    y_1+=1\n",
    "            y_1 = y_1/len(Y)\n",
    "            y_0 = y_0/len(Y)\n",
    "            #print(y_1,y_0,len(Y))\n",
    "            return 1 - (y_1**2+y_0**2)\n",
    "\n",
    "    def split(self):\n",
    "        X1,X2,Y1,Y2=[],[],[],[]\n",
    "        y = self.L.pred(self.X,self.L.a,self.L.b)\n",
    "        l = len(self.Y)\n",
    "        for i in range(l):\n",
    "            if y[i]>0.5:\n",
    "                X1.append(X[i]),Y1.append(Y[i])\n",
    "            else:\n",
    "                X2.append(X[i]),Y2.append(Y[i])\n",
    "        self.impurity(Y1),self.impurity(Y2)\n",
    "        return np.array(X1),np.array(X2),np.array(Y1),np.array(Y2)"
   ]
  },
  {
   "cell_type": "code",
   "execution_count": 87,
   "metadata": {},
   "outputs": [
    {
     "name": "stdout",
     "output_type": "stream",
     "text": [
      "Node number :  1 dataset size =  303\n",
      "node impurity =  0.4960298009999019 split1 impurity =  0.22043665286908531 split2 impurity =  0.4574652777777777\n",
      "Node number :  2 dataset size =  111\n",
      "node impurity =  0.22043665286908531 split1 impurity =  0.0 split2 impurity =  1\n",
      "Node number :  3 dataset size =  111\n",
      "node impurity =  0.0 split1 impurity =  0.0 split2 impurity =  1\n",
      "Node number :  3 dataset size =  0\n",
      "Node number :  2 dataset size =  192\n",
      "node impurity =  0.4574652777777777 split1 impurity =  0.07133058984910856 split2 impurity =  0.2654912764003674\n",
      "Node number :  3 dataset size =  27\n",
      "node impurity =  0.07133058984910856 split1 impurity =  0.0 split2 impurity =  1\n",
      "Node number :  3 dataset size =  165\n",
      "node impurity =  0.2654912764003674 split1 impurity =  0.0 split2 impurity =  1\n"
     ]
    }
   ],
   "source": [
    "num_iter=10\n",
    "epochs=10\n",
    "max_depth=3\n",
    "tree = node(X,Y,1)"
   ]
  },
  {
   "cell_type": "code",
   "execution_count": 140,
   "metadata": {},
   "outputs": [],
   "source": [
    "def predict(tree,X):\n",
    "    y = []\n",
    "    k=0\n",
    "    for x in X:\n",
    "        d=1\n",
    "        k+=1\n",
    "        node = tree\n",
    "        while d<tree.max_depth:\n",
    "            d+=1\n",
    "            print(node.depth,tree.max_depth)\n",
    "            p = node.L.pred(x,node.L.a,node.L.b)\n",
    "            if p<0.5:\n",
    "                node = node.N1\n",
    "            else:\n",
    "                node = node.N2\n",
    "        if node.L.pred(x,node.L.a,node.L.b) > 0.5:\n",
    "            print(\"Class of x = \",1)\n",
    "            y.append(1)\n",
    "        else:\n",
    "            print(\"Class of x = \",0)\n",
    "            y.append(0)            "
   ]
  },
  {
   "cell_type": "code",
   "execution_count": 141,
   "metadata": {},
   "outputs": [
    {
     "name": "stdout",
     "output_type": "stream",
     "text": [
      "[1. 1. 1. 1. 1. 1. 1. 1. 1. 1.]\n",
      "1 3\n",
      "2 3\n",
      "Class of x =  1\n",
      "1 3\n",
      "2 3\n"
     ]
    },
    {
     "ename": "AttributeError",
     "evalue": "'node' object has no attribute 'L'",
     "output_type": "error",
     "traceback": [
      "\u001b[0;31m---------------------------------------------------------------------------\u001b[0m",
      "\u001b[0;31mAttributeError\u001b[0m                            Traceback (most recent call last)",
      "\u001b[0;32m<ipython-input-141-db4be5102175>\u001b[0m in \u001b[0;36m<module>\u001b[0;34m()\u001b[0m\n\u001b[1;32m      1\u001b[0m \u001b[0mprint\u001b[0m\u001b[0;34m(\u001b[0m\u001b[0mY\u001b[0m\u001b[0;34m[\u001b[0m\u001b[0;34m:\u001b[0m\u001b[0;36m10\u001b[0m\u001b[0;34m]\u001b[0m\u001b[0;34m)\u001b[0m\u001b[0;34m\u001b[0m\u001b[0;34m\u001b[0m\u001b[0m\n\u001b[0;32m----> 2\u001b[0;31m \u001b[0mpredict\u001b[0m\u001b[0;34m(\u001b[0m\u001b[0mtree\u001b[0m\u001b[0;34m,\u001b[0m\u001b[0mX\u001b[0m\u001b[0;34m[\u001b[0m\u001b[0;34m:\u001b[0m\u001b[0;36m10\u001b[0m\u001b[0;34m]\u001b[0m\u001b[0;34m)\u001b[0m\u001b[0;34m\u001b[0m\u001b[0;34m\u001b[0m\u001b[0m\n\u001b[0m",
      "\u001b[0;32m<ipython-input-140-db9b2f6806c4>\u001b[0m in \u001b[0;36mpredict\u001b[0;34m(tree, X)\u001b[0m\n\u001b[1;32m     14\u001b[0m             \u001b[0;32melse\u001b[0m\u001b[0;34m:\u001b[0m\u001b[0;34m\u001b[0m\u001b[0;34m\u001b[0m\u001b[0m\n\u001b[1;32m     15\u001b[0m                 \u001b[0mnode\u001b[0m \u001b[0;34m=\u001b[0m \u001b[0mnode\u001b[0m\u001b[0;34m.\u001b[0m\u001b[0mN2\u001b[0m\u001b[0;34m\u001b[0m\u001b[0;34m\u001b[0m\u001b[0m\n\u001b[0;32m---> 16\u001b[0;31m         \u001b[0;32mif\u001b[0m \u001b[0mnode\u001b[0m\u001b[0;34m.\u001b[0m\u001b[0mL\u001b[0m\u001b[0;34m.\u001b[0m\u001b[0mpred\u001b[0m\u001b[0;34m(\u001b[0m\u001b[0mx\u001b[0m\u001b[0;34m,\u001b[0m\u001b[0mnode\u001b[0m\u001b[0;34m.\u001b[0m\u001b[0mL\u001b[0m\u001b[0;34m.\u001b[0m\u001b[0ma\u001b[0m\u001b[0;34m,\u001b[0m\u001b[0mnode\u001b[0m\u001b[0;34m.\u001b[0m\u001b[0mL\u001b[0m\u001b[0;34m.\u001b[0m\u001b[0mb\u001b[0m\u001b[0;34m)\u001b[0m \u001b[0;34m>\u001b[0m \u001b[0;36m0.5\u001b[0m\u001b[0;34m:\u001b[0m\u001b[0;34m\u001b[0m\u001b[0;34m\u001b[0m\u001b[0m\n\u001b[0m\u001b[1;32m     17\u001b[0m             \u001b[0mprint\u001b[0m\u001b[0;34m(\u001b[0m\u001b[0;34m\"Class of x = \"\u001b[0m\u001b[0;34m,\u001b[0m\u001b[0;36m1\u001b[0m\u001b[0;34m)\u001b[0m\u001b[0;34m\u001b[0m\u001b[0;34m\u001b[0m\u001b[0m\n\u001b[1;32m     18\u001b[0m             \u001b[0my\u001b[0m\u001b[0;34m.\u001b[0m\u001b[0mappend\u001b[0m\u001b[0;34m(\u001b[0m\u001b[0;36m1\u001b[0m\u001b[0;34m)\u001b[0m\u001b[0;34m\u001b[0m\u001b[0;34m\u001b[0m\u001b[0m\n",
      "\u001b[0;31mAttributeError\u001b[0m: 'node' object has no attribute 'L'"
     ]
    }
   ],
   "source": [
    "print(Y[:10])\n",
    "predict(tree,X[:10])"
   ]
  },
  {
   "cell_type": "code",
   "execution_count": 6,
   "metadata": {},
   "outputs": [
    {
     "data": {
      "image/png": "[encoded data removed]",
      "text/plain": [
       "<Figure size 864x576 with 1 Axes>"
      ]
     },
     "metadata": {},
     "output_type": "display_data"
    }
   ],
   "source": [
    "L = LOG_REG.Log_Reg(learning_rate=0.01,iterations=100)\n",
    "c = L.fit(X,Y)\n",
    "plt.figure(figsize=(12,8))\n",
    "plt.rc_context({\"xtick.color\":\"white\",\"ytick.color\":'white'})\n",
    "plt.plot(c)\n",
    "plt.show()"
   ]
  },
  {
   "cell_type": "code",
   "execution_count": 8,
   "metadata": {},
   "outputs": [],
   "source": [
    "Dataset = None\n",
    "e = 2.7\n",
    "\n",
    "dataset = pd.read_csv(\"datasets_17860_23404_IRIS.csv\")\n",
    "dataset.head()\n",
    "\n",
    "X = dataset.values[:,:4]\n",
    "Y = dataset.values[:,-1]\n",
    "\n",
    "X = X[0:100]\n",
    "Y = np.concatenate((np.zeros(50),np.ones(50)))\n",
    "\n",
    "X.shape,Y.shape\n",
    "\n",
    "n,m = X.shape"
   ]
  },
  {
   "cell_type": "code",
   "execution_count": 9,
   "metadata": {},
   "outputs": [
    {
     "data": {
      "image/png": "[encoded data removed]",
      "text/plain": [
       "<Figure size 432x288 with 1 Axes>"
      ]
     },
     "metadata": {},
     "output_type": "display_data"
    }
   ],
   "source": [
    "L = LOG_REG.Log_Reg(learning_rate=0.01,iterations=100)\n",
    "c = L.fit(X,Y)\n",
    "plt.rc_context({\"xtick.color\":\"white\",\"ytick.color\":'white'})\n",
    "plt.plot(c)\n",
    "plt.show()"
   ]
  },
  {
   "cell_type": "code",
   "execution_count": null,
   "metadata": {},
   "outputs": [],
   "source": []
  }
 ],
 "metadata": {
  "kernelspec": {
   "display_name": "Python 3",
   "language": "python",
   "name": "python3"
  },
  "language_info": {
   "codemirror_mode": {
    "name": "ipython",
    "version": 3
   },
   "file_extension": ".py",
   "mimetype": "text/x-python",
   "name": "python",
   "nbconvert_exporter": "python",
   "pygments_lexer": "ipython3",
   "version": "3.6.9"
  }
 },
 "nbformat": 4,
 "nbformat_minor": 2
}
