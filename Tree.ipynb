{
 "cells": [
  {
   "cell_type": "code",
   "execution_count": 1,
   "metadata": {},
   "outputs": [],
   "source": [
    "import numpy as np\n",
    "import pandas as pd\n",
    "import LOG_REG\n",
    "from sklearn.preprocessing import MinMaxScaler"
   ]
  },
  {
   "cell_type": "code",
   "execution_count": 2,
   "metadata": {},
   "outputs": [],
   "source": [
    "class node():\n",
    "    def __init__(self,X,Y,depth):\n",
    "        self.X = X\n",
    "        self.Y = Y\n",
    "        self.max_depth = max_depth\n",
    "        self.depth = depth\n",
    "        self.n = len(Y)\n",
    "        self.imp = self.impurity(self.Y)\n",
    "        if self.imp==0:\n",
    "            self.target = 0\n",
    "        else:\n",
    "            self.target = None\n",
    "            print(\"Node number : \",self.depth,\"dataset size = \",self.n)\n",
    "            if (self.n>0):\n",
    "                self.train(num_iter,epochs)\n",
    "            else:\n",
    "                self.set_class(2)\n",
    "    def set_class(self,Y):\n",
    "            self.target = Y\n",
    "\n",
    "    def train(self,num_iter=10,epochs=10):\n",
    "        self.L = LOG_REG.Log_Reg(learning_rate=0.01,iterations=num_iter)\n",
    "        c = self.L.fit(self.X,self.Y)\n",
    "        self.X1,self.X2,self.Y1,self.Y2 = self.split()\n",
    "        print(\"node impurity = \",self.impurity(self.Y),\"split1 impurity = \",self.impurity(self.Y1),\"split2 impurity = \",self.impurity(self.Y2))\n",
    "        print(\"Y1 length = \",len(self.Y1),\"Y2 length = \",len(self.Y2))\n",
    "        \n",
    "        impurity_gain = self.imp-(self.impurity(self.Y1))-self.impurity(self.Y2)\n",
    "        \n",
    "#         print(\"impurity_gain = \",impurity_gain)\n",
    "        if (self.depth < self.max_depth) and impurity_gain!=self.imp:\n",
    "            self.N1 = node(self.X1,self.Y1,self.depth+1)\n",
    "            self.N2 = node(self.X2,self.Y2,self.depth+1)\n",
    "        else:\n",
    "            self.set_class(Y[0])\n",
    "\n",
    "            return 0\n",
    "\n",
    "    def impurity(self,Y):\n",
    "        y_1,y_0=0,0\n",
    "        if len(Y)==0:\n",
    "            return 0\n",
    "        else:\n",
    "            for i in Y:\n",
    "                if i==0:\n",
    "                    y_0+=1\n",
    "                else:\n",
    "                    y_1+=1\n",
    "            y_1 = y_1/len(Y)\n",
    "            y_0 = y_0/len(Y)\n",
    "            return 1 - (y_1**2+y_0**2)\n",
    "\n",
    "    def split(self):\n",
    "        X1,X2,Y1,Y2=[],[],[],[]\n",
    "        y = self.L.pred(self.X,self.L.a,self.L.b)\n",
    "        l = len(self.Y)\n",
    "        for i in range(l):\n",
    "            if y[i]>0.5:\n",
    "                X1.append(X[i]),Y1.append(Y[i])\n",
    "            else:\n",
    "                X2.append(X[i]),Y2.append(Y[i])\n",
    "        self.impurity(Y1),self.impurity(Y2)\n",
    "        return np.array(X1),np.array(X2),np.array(Y1),np.array(Y2)"
   ]
  },
  {
   "cell_type": "code",
   "execution_count": 3,
   "metadata": {},
   "outputs": [],
   "source": [
    "def predict(tree,X):\n",
    "    y = []\n",
    "    for x in X:\n",
    "        d=1\n",
    "        node = tree\n",
    "        while d<tree.max_depth:\n",
    "            try    :\n",
    "                d+=1\n",
    "                p = node.L.pred(x,node.L.a,node.L.b)\n",
    "                if p<0.5:\n",
    "                    node = node.N1\n",
    "                else:\n",
    "                    node = node.N2\n",
    "            except:\n",
    "                break\n",
    "        try:\n",
    "            if node.L.pred(x,node.L.a,node.L.b) > 0.5:\n",
    "                #print(\"Class of x = \",1)\n",
    "                y.append(1)\n",
    "            else:\n",
    "                #print(\"Class of x = \",0)\n",
    "                y.append(0)\n",
    "        except:\n",
    "            #print(\"Class of x = \",node.target)\n",
    "            y.append(node.target)\n",
    "    return y"
   ]
  },
  {
   "cell_type": "code",
   "execution_count": 4,
   "metadata": {},
   "outputs": [],
   "source": [
    "def accuracy(y_pred,y):\n",
    "    if len(y_pred)!=len(y):\n",
    "        print(\"Unequal prediction and true values data\")\n",
    "    else:\n",
    "        l = len(y)\n",
    "        acc=0\n",
    "        for i in range(l):\n",
    "            if y_pred[i]==y[i]:\n",
    "                acc+=1\n",
    "    return acc/l"
   ]
  },
  {
   "cell_type": "code",
   "execution_count": 5,
   "metadata": {},
   "outputs": [
    {
     "name": "stdout",
     "output_type": "stream",
     "text": [
      "   age  sex  cp  trestbps  chol  fbs  restecg  thalach  exang  oldpeak  slope  \\\n",
      "0   63    1   3       145   233    1        0      150      0      2.3      0   \n",
      "1   37    1   2       130   250    0        1      187      0      3.5      0   \n",
      "2   41    0   1       130   204    0        0      172      0      1.4      2   \n",
      "3   56    1   1       120   236    0        1      178      0      0.8      2   \n",
      "4   57    0   0       120   354    0        1      163      1      0.6      2   \n",
      "\n",
      "   ca  thal  target  \n",
      "0   0     1       1  \n",
      "1   0     2       1  \n",
      "2   0     2       1  \n",
      "3   0     2       1  \n",
      "4   0     2       1  \n"
     ]
    }
   ],
   "source": [
    "dataset = pd.read_csv(\"heart.csv\")\n",
    "print(dataset.head())\n",
    "\n",
    "X = dataset.values[:,:-1]\n",
    "Y = dataset.values[:,-1]\n",
    "\n",
    "X.shape,Y.shape\n",
    "M = MinMaxScaler()\n",
    "M.fit(X)\n",
    "X = M.transform(X)\n",
    "n,m = X.shape"
   ]
  },
  {
   "cell_type": "code",
   "execution_count": 6,
   "metadata": {},
   "outputs": [
    {
     "name": "stdout",
     "output_type": "stream",
     "text": [
      "Node number :  1 dataset size =  303\n",
      "node impurity =  0.4960298009999019 split1 impurity =  0.26467009194158997 split2 impurity =  0.2587261814579571\n",
      "Y1 length =  172 Y2 length =  131\n",
      "Node number :  2 dataset size =  172\n",
      "node impurity =  0.26467009194158997 split1 impurity =  0.07808274743104371 split2 impurity =  0\n",
      "Y1 length =  172 Y2 length =  0\n",
      "Node number :  3 dataset size =  172\n",
      "node impurity =  0.07808274743104371 split1 impurity =  0.07808274743104371 split2 impurity =  0\n",
      "Y1 length =  172 Y2 length =  0\n",
      "Node number :  2 dataset size =  131\n",
      "node impurity =  0.2587261814579571 split1 impurity =  0 split2 impurity =  0.0\n",
      "Y1 length =  0 Y2 length =  131\n"
     ]
    }
   ],
   "source": [
    "num_iter=50\n",
    "epochs=4\n",
    "max_depth=3\n",
    "tree = node(X,Y,1)"
   ]
  },
  {
   "cell_type": "code",
   "execution_count": 7,
   "metadata": {},
   "outputs": [
    {
     "name": "stdout",
     "output_type": "stream",
     "text": [
      "Accuracy =  0.6039603960396039\n",
      "[1. 1. 1. 1. 1. 1. 1. 1. 1. 1. 1. 1. 1. 1. 1. 1. 1. 1. 1. 1. 1. 1. 1. 1.\n",
      " 1. 1. 1. 1. 1. 1. 1. 1. 1. 1. 1. 1. 1. 1. 1. 1. 1. 1. 1. 1. 1. 1. 1. 1.\n",
      " 1. 1. 1. 1. 1. 1. 1. 1. 1. 1. 1. 1. 1. 1. 1. 1. 1. 1. 1. 1. 1. 1. 1. 1.\n",
      " 1. 1. 1. 1. 1. 1. 1. 1. 1. 1. 1. 1. 1. 1. 1. 1. 1. 1. 1. 1. 1. 1. 1. 1.\n",
      " 1. 1. 1. 1. 1. 1. 1. 1. 1. 1. 1. 1. 1. 1. 1. 1. 1. 1. 1. 1. 1. 1. 1. 1.\n",
      " 1. 1. 1. 1. 1. 1. 1. 1. 1. 1. 1. 1. 1. 1. 1. 1. 1. 1. 1. 1. 1. 1. 1. 1.\n",
      " 1. 1. 1. 1. 1. 1. 1. 1. 1. 1. 1. 1. 1. 1. 1. 1. 1. 1. 1. 1. 1. 0. 0. 0.\n",
      " 0. 0. 0. 0. 0. 0. 0. 0. 0. 0. 0. 0. 0. 0. 0. 0. 0. 0. 0. 0. 0. 0. 0. 0.\n",
      " 0. 0. 0. 0. 0. 0. 0. 0. 0. 0. 0. 0. 0. 0. 0. 0. 0. 0. 0. 0. 0. 0. 0. 0.\n",
      " 0. 0. 0. 0. 0. 0. 0. 0. 0. 0. 0. 0. 0. 0. 0. 0. 0. 0. 0. 0. 0. 0. 0. 0.\n",
      " 0. 0. 0. 0. 0. 0. 0. 0. 0. 0. 0. 0. 0. 0. 0. 0. 0. 0. 0. 0. 0. 0. 0. 0.\n",
      " 0. 0. 0. 0. 0. 0. 0. 0. 0. 0. 0. 0. 0. 0. 0. 0. 0. 0. 0. 0. 0. 0. 0. 0.\n",
      " 0. 0. 0. 0. 0. 0. 0. 0. 0. 0. 0. 0. 0. 0. 0.] [1, 0, 0, 0, 0, 0, 0, 0, 0, 1, 0, 1, 0, 0, 1, 1, 1, 1, 0, 1, 0, 0, 0, 0, 0, 0, 1, 1, 1, 0, 0, 0, 0, 1, 0, 0, 1, 0, 1, 1, 0, 0, 0, 0, 1, 0, 1, 1, 1, 0, 1, 0, 0, 1, 1, 0, 0, 0, 1, 0, 0, 0, 1, 0, 1, 0, 0, 0, 0, 0, 0, 0, 0, 0, 1, 0, 0, 0, 0, 0, 1, 0, 1, 1, 0, 0, 0, 0, 1, 0, 1, 0, 0, 0, 0, 0, 0, 0, 1, 0, 1, 0, 0, 0, 1, 0, 1, 0, 0, 0, 0, 0, 0, 0, 0, 1, 0, 0, 0, 0, 0, 0, 0, 1, 1, 1, 0, 1, 1, 0, 1, 0, 0, 0, 0, 0, 1, 0, 0, 0, 1, 0, 1, 0, 1, 0, 1, 1, 1, 1, 0, 0, 1, 0, 1, 0, 1, 0, 0, 0, 0, 0, 0, 0, 0, 0, 0, 0, 0, 0, 0, 0, 0, 0, 0, 0, 0, 1, 0, 0, 0, 0, 0, 0, 0, 0, 0, 0, 0, 0, 0, 0, 0, 0, 0, 0, 0, 0, 0, 0, 0, 0, 0, 0, 0, 0, 0, 0, 0, 0, 0, 0, 0, 0, 0, 0, 0, 0, 0, 0, 0, 0, 1, 0, 0, 0, 1, 0, 1, 0, 1, 0, 0, 0, 0, 0, 0, 0, 0, 0, 0, 0, 0, 0, 0, 0, 0, 0, 0, 0, 0, 0, 0, 0, 1, 0, 0, 0, 0, 0, 0, 0, 0, 0, 0, 0, 0, 0, 0, 0, 0, 0, 0, 0, 0, 0, 0, 0, 0, 0, 0, 0, 0, 0, 0, 0, 1, 0, 0, 0, 0, 0, 0, 0, 0, 0, 0, 0, 0, 1, 0, 0, 0]\n"
     ]
    }
   ],
   "source": [
    "y_pred = predict(tree,X)\n",
    "acc = accuracy(y_pred,Y)\n",
    "print(\"Accuracy = \",acc)\n",
    "print(Y,y_pred)"
   ]
  },
  {
   "cell_type": "code",
   "execution_count": 8,
   "metadata": {},
   "outputs": [
    {
     "name": "stdout",
     "output_type": "stream",
     "text": [
      "   Unnamed: 0  Pclass  Sex   Age  SibSp  Parch     Fare  Embarked\n",
      "0           0       3    1  22.0      1      0   7.2500         2\n",
      "1           1       1    0  38.0      1      0  71.2833         0\n",
      "2           2       3    0  26.0      0      0   7.9250         2\n",
      "3           3       1    0  35.0      1      0  53.1000         2\n",
      "4           4       3    1  35.0      0      0   8.0500         2\n"
     ]
    }
   ],
   "source": [
    "dataset = pd.read_csv(\"train1.csv\")\n",
    "print(dataset.head())\n",
    "\n",
    "X = dataset.values[:,:-1]\n",
    "Y = dataset.values[:,-1]\n",
    "\n",
    "X.shape,Y.shape\n",
    "M = MinMaxScaler()\n",
    "M.fit(X)\n",
    "X = M.transform(X)\n",
    "n,m = X.shape"
   ]
  },
  {
   "cell_type": "code",
   "execution_count": 9,
   "metadata": {},
   "outputs": [
    {
     "name": "stdout",
     "output_type": "stream",
     "text": [
      "Node number :  1 dataset size =  891\n",
      "node impurity =  0.306000521488737 split1 impurity =  0.306000521488737 split2 impurity =  0\n",
      "Y1 length =  891 Y2 length =  0\n",
      "Node number :  2 dataset size =  891\n",
      "node impurity =  0.306000521488737 split1 impurity =  0.306000521488737 split2 impurity =  0\n",
      "Y1 length =  891 Y2 length =  0\n",
      "Node number :  3 dataset size =  891\n",
      "node impurity =  0.306000521488737 split1 impurity =  0.306000521488737 split2 impurity =  0\n",
      "Y1 length =  891 Y2 length =  0\n"
     ]
    }
   ],
   "source": [
    "num_iter=10\n",
    "epochs=1\n",
    "max_depth=3\n",
    "tree = node(X,Y,1)"
   ]
  },
  {
   "cell_type": "code",
   "execution_count": 10,
   "metadata": {},
   "outputs": [
    {
     "data": {
      "text/plain": [
       "0.21"
      ]
     },
     "execution_count": 10,
     "metadata": {},
     "output_type": "execute_result"
    }
   ],
   "source": [
    "y_pred = predict(tree,X[:100])\n",
    "accuracy(y_pred,Y[:100])"
   ]
  },
  {
   "cell_type": "code",
   "execution_count": 11,
   "metadata": {},
   "outputs": [
    {
     "name": "stdout",
     "output_type": "stream",
     "text": [
      "   gender  driver_age_raw  driver_age  driver_race  violation  \\\n",
      "0     1.0          1985.0        20.0          0.0        1.0   \n",
      "1     1.0          1965.0        40.0          0.0        1.0   \n",
      "2     1.0          1972.0        33.0          0.0        1.0   \n",
      "3     1.0          1986.0        19.0          0.0        4.0   \n",
      "4     0.0          1984.0        21.0          0.0        1.0   \n",
      "\n",
      "   search_conducted  stop_outcome  arrested  drugs_related_stop  \n",
      "0                 0           1.0       0.0                   0  \n",
      "1                 0           1.0       0.0                   0  \n",
      "2                 0           1.0       0.0                   0  \n",
      "3                 0           2.0       1.0                   0  \n",
      "4                 0           1.0       0.0                   0  \n"
     ]
    }
   ],
   "source": [
    "dataset = pd.read_csv(\"Police_dataset.csv\")\n",
    "print(dataset.head())\n",
    "\n",
    "X = dataset.values[:,:-1]\n",
    "Y = dataset.values[:,-1]\n",
    "\n",
    "X.shape,Y.shape\n",
    "M = MinMaxScaler()\n",
    "M.fit(X)\n",
    "X = M.transform(X)\n",
    "n,m = X.shape"
   ]
  },
  {
   "cell_type": "code",
   "execution_count": 12,
   "metadata": {},
   "outputs": [
    {
     "name": "stdout",
     "output_type": "stream",
     "text": [
      "Node number :  1 dataset size =  5000\n",
      "node impurity =  0.011927999999999939 split1 impurity =  0 split2 impurity =  0.011927999999999939\n",
      "Y1 length =  0 Y2 length =  5000\n",
      "Node number :  2 dataset size =  5000\n",
      "node impurity =  0.011927999999999939 split1 impurity =  0 split2 impurity =  0.011927999999999939\n",
      "Y1 length =  0 Y2 length =  5000\n",
      "Node number :  3 dataset size =  5000\n",
      "node impurity =  0.011927999999999939 split1 impurity =  0 split2 impurity =  0.011927999999999939\n",
      "Y1 length =  0 Y2 length =  5000\n"
     ]
    }
   ],
   "source": [
    "num_iter=10\n",
    "epochs=10\n",
    "max_depth=3\n",
    "tree = node(X[:5000],Y[:5000],1)"
   ]
  },
  {
   "cell_type": "code",
   "execution_count": 13,
   "metadata": {},
   "outputs": [
    {
     "data": {
      "text/plain": [
       "0.98"
      ]
     },
     "execution_count": 13,
     "metadata": {},
     "output_type": "execute_result"
    }
   ],
   "source": [
    "y_pred = predict(tree,X[:100])\n",
    "accuracy(y_pred,Y[:100])"
   ]
  },
  {
   "cell_type": "code",
   "execution_count": 14,
   "metadata": {},
   "outputs": [
    {
     "name": "stdout",
     "output_type": "stream",
     "text": [
      "   Unnamed: 0  Pclass  Sex   Age  SibSp  Parch     Fare  Embarked\n",
      "0           0       3    1  22.0      1      0   7.2500         2\n",
      "1           1       1    0  38.0      1      0  71.2833         0\n",
      "2           2       3    0  26.0      0      0   7.9250         2\n",
      "3           3       1    0  35.0      1      0  53.1000         2\n",
      "4           4       3    1  35.0      0      0   8.0500         2\n",
      "891 8\n"
     ]
    }
   ],
   "source": [
    "dataset = pd.read_csv(\"titanic.csv\")\n",
    "print(dataset.head())\n",
    "X = dataset.values[:]\n",
    "dataset = pd.read_csv(\"titanic_y.csv\")\n",
    "Y = dataset.values[:,-1]\n",
    "\n",
    "X.shape,Y.shape\n",
    "M = MinMaxScaler()\n",
    "M.fit(X)\n",
    "X = M.transform(X)\n",
    "n,m = X.shape\n",
    "print(n,m)"
   ]
  },
  {
   "cell_type": "code",
   "execution_count": 15,
   "metadata": {},
   "outputs": [
    {
     "name": "stdout",
     "output_type": "stream",
     "text": [
      "Node number :  1 dataset size =  891\n",
      "node impurity =  0.4730129578614428 split1 impurity =  0.4739749319197494 split2 impurity =  0.22317558006334082\n",
      "Y1 length =  469 Y2 length =  422\n",
      "Node number :  2 dataset size =  469\n",
      "node impurity =  0.4739749319197494 split1 impurity =  0.48200494204981337 split2 impurity =  0.4646691235378946\n",
      "Y1 length =  311 Y2 length =  158\n",
      "Node number :  3 dataset size =  311\n",
      "node impurity =  0.48200494204981337 split1 impurity =  0.47277777777777774 split2 impurity =  0.4643513061593707\n",
      "Y1 length =  120 Y2 length =  191\n",
      "Node number :  3 dataset size =  158\n",
      "node impurity =  0.4646691235378946 split1 impurity =  0.45499999999999996 split2 impurity =  0.4531445231153687\n",
      "Y1 length =  60 Y2 length =  98\n",
      "Node number :  2 dataset size =  422\n",
      "node impurity =  0.22317558006334082 split1 impurity =  0 split2 impurity =  0.47412457042743883\n",
      "Y1 length =  0 Y2 length =  422\n",
      "Node number :  3 dataset size =  422\n",
      "node impurity =  0.47412457042743883 split1 impurity =  0.38117187499999994 split2 impurity =  0.27947089330458597\n",
      "Y1 length =  160 Y2 length =  262\n"
     ]
    }
   ],
   "source": [
    "num_iter=100\n",
    "epochs=10\n",
    "max_depth=3\n",
    "tree = node(X,Y,1)"
   ]
  },
  {
   "cell_type": "code",
   "execution_count": 16,
   "metadata": {},
   "outputs": [
    {
     "data": {
      "text/plain": [
       "0.59"
      ]
     },
     "execution_count": 16,
     "metadata": {},
     "output_type": "execute_result"
    }
   ],
   "source": [
    "y_pred = predict(tree,X[:100])\n",
    "accuracy(y_pred,Y[:100])"
   ]
  },
  {
   "cell_type": "code",
   "execution_count": 17,
   "metadata": {},
   "outputs": [
    {
     "name": "stdout",
     "output_type": "stream",
     "text": [
      "   Unnamed: 0       0       1       2       3       4       5       6       7  \\\n",
      "0           0  0.0200  0.0371  0.0428  0.0207  0.0954  0.0986  0.1539  0.1601   \n",
      "1           1  0.0453  0.0523  0.0843  0.0689  0.1183  0.2583  0.2156  0.3481   \n",
      "2           2  0.0262  0.0582  0.1099  0.1083  0.0974  0.2280  0.2431  0.3771   \n",
      "3           3  0.0100  0.0171  0.0623  0.0205  0.0205  0.0368  0.1098  0.1276   \n",
      "4           4  0.0762  0.0666  0.0481  0.0394  0.0590  0.0649  0.1209  0.2467   \n",
      "\n",
      "        8  ...      51      52      53      54      55      56      57  \\\n",
      "0  0.3109  ...  0.0027  0.0065  0.0159  0.0072  0.0167  0.0180  0.0084   \n",
      "1  0.3337  ...  0.0084  0.0089  0.0048  0.0094  0.0191  0.0140  0.0049   \n",
      "2  0.5598  ...  0.0232  0.0166  0.0095  0.0180  0.0244  0.0316  0.0164   \n",
      "3  0.0598  ...  0.0121  0.0036  0.0150  0.0085  0.0073  0.0050  0.0044   \n",
      "4  0.3564  ...  0.0031  0.0054  0.0105  0.0110  0.0015  0.0072  0.0048   \n",
      "\n",
      "       58      59  60  \n",
      "0  0.0090  0.0032   0  \n",
      "1  0.0052  0.0044   0  \n",
      "2  0.0095  0.0078   0  \n",
      "3  0.0040  0.0117   0  \n",
      "4  0.0107  0.0094   0  \n",
      "\n",
      "[5 rows x 62 columns]\n",
      "208 61\n"
     ]
    }
   ],
   "source": [
    "dataset = pd.read_csv(\"SONAR.csv\")\n",
    "print(dataset.head())\n",
    "X = dataset.values[:,:-1]\n",
    "Y = dataset.values[:,-1]\n",
    "\n",
    "X.shape,Y.shape\n",
    "M = MinMaxScaler()\n",
    "M.fit(X)\n",
    "X = M.transform(X)\n",
    "n,m = X.shape\n",
    "print(n,m)"
   ]
  },
  {
   "cell_type": "code",
   "execution_count": 18,
   "metadata": {},
   "outputs": [
    {
     "name": "stdout",
     "output_type": "stream",
     "text": [
      "Node number :  1 dataset size =  208\n",
      "node impurity =  0.4977348372781065 split1 impurity =  0.06714555765595476 split2 impurity =  0.0\n",
      "Y1 length =  115 Y2 length =  93\n",
      "Node number :  2 dataset size =  115\n",
      "node impurity =  0.06714555765595476 split1 impurity =  0.2640453686200377 split2 impurity =  0\n",
      "Y1 length =  115 Y2 length =  0\n",
      "Node number :  3 dataset size =  115\n",
      "node impurity =  0.2640453686200377 split1 impurity =  0.0 split2 impurity =  0.12555473372781067\n",
      "Y1 length =  11 Y2 length =  104\n"
     ]
    }
   ],
   "source": [
    "num_iter=50\n",
    "epochs=10\n",
    "max_depth=3\n",
    "tree = node(X,Y,1)"
   ]
  },
  {
   "cell_type": "code",
   "execution_count": 19,
   "metadata": {},
   "outputs": [
    {
     "data": {
      "text/plain": [
       "0.97"
      ]
     },
     "execution_count": 19,
     "metadata": {},
     "output_type": "execute_result"
    }
   ],
   "source": [
    "y_pred = predict(tree,X[:100])\n",
    "accuracy(y_pred,Y[:100])"
   ]
  },
  {
   "cell_type": "code",
   "execution_count": null,
   "metadata": {},
   "outputs": [],
   "source": []
  }
 ],
 "metadata": {
  "kernelspec": {
   "display_name": "Python 3",
   "language": "python",
   "name": "python3"
  },
  "language_info": {
   "codemirror_mode": {
    "name": "ipython",
    "version": 3
   },
   "file_extension": ".py",
   "mimetype": "text/x-python",
   "name": "python",
   "nbconvert_exporter": "python",
   "pygments_lexer": "ipython3",
   "version": "3.6.9"
  }
 },
 "nbformat": 4,
 "nbformat_minor": 2
}
